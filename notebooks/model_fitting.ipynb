{
 "cells": [
  {
   "cell_type": "markdown",
   "id": "0b3a1696-4458-44e8-8f8d-848395650d00",
   "metadata": {},
   "source": [
    "# Model fitting\n",
    "\n",
    "This model train a simple neural net and assesses its performance."
   ]
  },
  {
   "cell_type": "code",
   "execution_count": 1,
   "id": "bc529f64-b8a3-4df7-90e0-5451ed6cd9f0",
   "metadata": {},
   "outputs": [],
   "source": [
    "import numpy as np\n",
    "import scipy.stats as st\n",
    "from sklearn.neural_network import MLPClassifier\n",
    "from sklearn.model_selection import RandomizedSearchCV\n",
    "from sklearn.metrics import accuracy_score"
   ]
  },
  {
   "cell_type": "markdown",
   "id": "2a2fc1eb-9803-401f-8aff-8c7074de61b8",
   "metadata": {},
   "source": [
    "This notebook is parameterized to work with [Papermill](https://papermill.readthedocs.io).\n",
    "The following cell contains the default values of the parameters."
   ]
  },
  {
   "cell_type": "code",
   "execution_count": 2,
   "id": "487fd8c5-8a47-4167-9b13-22aa0a6138ef",
   "metadata": {
    "tags": [
     "parameters"
    ]
   },
   "outputs": [],
   "source": [
    "input_file = \"test_dataset.npz\"\n",
    "max_units = 15\n",
    "n_budget = 1\n",
    "n_jobs = 1"
   ]
  },
  {
   "cell_type": "markdown",
   "id": "1c8c4254-ff9b-4605-8dfa-cba8f8c36472",
   "metadata": {},
   "source": [
    "First we load the training dataset."
   ]
  },
  {
   "cell_type": "code",
   "execution_count": 3,
   "id": "0fb1bf62-b8bc-44a4-9174-1fbc401ebe31",
   "metadata": {},
   "outputs": [
    {
     "name": "stdout",
     "output_type": "stream",
     "text": [
      "Number of training samples: 5000.\n",
      "Number of test samples: 10000.\n"
     ]
    }
   ],
   "source": [
    "dset = np.load(input_file)\n",
    "print(f\"Number of training samples: {len(dset['X_train'])}.\")\n",
    "print(f\"Number of test samples: {len(dset['X_test'])}.\")"
   ]
  },
  {
   "cell_type": "markdown",
   "id": "e793ef3a-ed3b-4d25-82a8-401a76ea5dfe",
   "metadata": {},
   "source": [
    "Then define a MLP model, using a random search strategy to optimize some hyperparameters."
   ]
  },
  {
   "cell_type": "code",
   "execution_count": 4,
   "id": "9a058e17-9662-4ae6-b748-52c3f995a2cd",
   "metadata": {},
   "outputs": [],
   "source": [
    "param_space = {\n",
    "    \"hidden_layer_sizes\": st.randint(10, max_units),\n",
    "    \"alpha\": st.loguniform(1e-5, 1e-2),\n",
    "    \"learning_rate_init\": st.loguniform(1e-4, 1e-1),\n",
    "}\n",
    "mlp = RandomizedSearchCV(\n",
    "    MLPClassifier(random_state=42, max_iter=1000),\n",
    "    param_space,\n",
    "    n_iter=n_budget,\n",
    "    random_state=42,\n",
    "    verbose=1,\n",
    "    n_jobs=n_jobs,\n",
    "    cv=3,\n",
    ")"
   ]
  },
  {
   "cell_type": "markdown",
   "id": "86ba1535-a2e7-4956-9ba2-6184fcfab061",
   "metadata": {},
   "source": [
    "Fitting will take more or less time depending on the optimization budget (number of configurations tested) and the number of parallel jobs used."
   ]
  },
  {
   "cell_type": "code",
   "execution_count": 5,
   "id": "b8b75bad-168b-4875-85e9-d4a26f67b3a4",
   "metadata": {},
   "outputs": [
    {
     "name": "stdout",
     "output_type": "stream",
     "text": [
      "Fitting 3 folds for each of 1 candidates, totalling 3 fits\n",
      "CPU times: user 2min 2s, sys: 5.66 s, total: 2min 8s\n",
      "Wall time: 1min 4s\n"
     ]
    }
   ],
   "source": [
    "%%time\n",
    "_ = mlp.fit(dset[\"X_train\"], dset[\"y_train\"])"
   ]
  },
  {
   "cell_type": "code",
   "execution_count": 6,
   "id": "5f94766e-15ed-4553-9cac-3d91fb8be3b9",
   "metadata": {},
   "outputs": [
    {
     "data": {
      "text/plain": [
       "{'alpha': 0.00013292918943162162,\n",
       " 'hidden_layer_sizes': 14,\n",
       " 'learning_rate_init': 0.0003550621427070769}"
      ]
     },
     "execution_count": 6,
     "metadata": {},
     "output_type": "execute_result"
    }
   ],
   "source": [
    "mlp.best_params_"
   ]
  },
  {
   "cell_type": "markdown",
   "id": "27f19756-251a-4531-a78a-39a1cb24d0f8",
   "metadata": {},
   "source": [
    "Finally, we check the accuracy on the test dataset."
   ]
  },
  {
   "cell_type": "code",
   "execution_count": 7,
   "id": "0abe311d-e412-466b-8d95-9b0045bb172b",
   "metadata": {},
   "outputs": [
    {
     "name": "stdout",
     "output_type": "stream",
     "text": [
      "MLP test accuracy is 90.69%.\n"
     ]
    }
   ],
   "source": [
    "y_pred = mlp.predict(dset[\"X_test\"])\n",
    "mlp_acc = accuracy_score(dset[\"y_test\"], y_pred)\n",
    "print(f\"MLP test accuracy is {mlp_acc * 100:.2f}%.\")"
   ]
  }
 ],
 "metadata": {
  "kernelspec": {
   "display_name": "Python 3.9.5 (gimkl-2020a)",
   "language": "python",
   "name": "python395-gimkl-2020a"
  },
  "language_info": {
   "codemirror_mode": {
    "name": "ipython",
    "version": 3
   },
   "file_extension": ".py",
   "mimetype": "text/x-python",
   "name": "python",
   "nbconvert_exporter": "python",
   "pygments_lexer": "ipython3",
   "version": "3.9.5"
  }
 },
 "nbformat": 4,
 "nbformat_minor": 5
}
