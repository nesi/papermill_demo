{
 "cells": [
  {
   "cell_type": "markdown",
   "id": "9f58daa8-34ac-4d2f-b7d2-685b6bc3ceba",
   "metadata": {},
   "source": [
    "# Data preparation\n",
    "\n",
    "This notebook loads the training dataset, split it in train/test folds and save it to disk."
   ]
  },
  {
   "cell_type": "code",
   "execution_count": null,
   "id": "05ee3ac8-f44f-4381-b0cf-582527f7e67c",
   "metadata": {},
   "outputs": [],
   "source": [
    "from pathlib import Path\n",
    "\n",
    "import numpy as np\n",
    "import matplotlib.pyplot as plt\n",
    "from sklearn.datasets import fetch_openml\n",
    "from sklearn.model_selection import train_test_split"
   ]
  },
  {
   "cell_type": "markdown",
   "id": "16cb230e-a5b7-413b-acc0-54d5f50b1783",
   "metadata": {},
   "source": [
    "This notebook is parameterized to work with [Papermill](https://papermill.readthedocs.io).\n",
    "The following cell contains the default values of the parameters."
   ]
  },
  {
   "cell_type": "code",
   "execution_count": null,
   "id": "d2860d87-94b9-4246-b133-5194d6fcf6bd",
   "metadata": {
    "tags": [
     "parameters"
    ]
   },
   "outputs": [],
   "source": [
    "train_size = 5000\n",
    "test_size = 1000\n",
    "result_file = \"test_dataset.npz\""
   ]
  },
  {
   "cell_type": "markdown",
   "id": "706d664e-475f-4525-a95c-44736b3087a8",
   "metadata": {},
   "source": [
    "Load MNIST data from [OpenML](https://www.openml.org/d/554)."
   ]
  },
  {
   "cell_type": "code",
   "execution_count": null,
   "id": "49d12990-93c4-4f28-8854-3ab548220f2d",
   "metadata": {},
   "outputs": [],
   "source": [
    "X, y = fetch_openml(\"mnist_784\", version=1, return_X_y=True, as_frame=False)\n",
    "X = X / 255.0\n",
    "y = y.astype(int)"
   ]
  },
  {
   "cell_type": "markdown",
   "id": "e54d7d35-5ef5-42c2-891a-99b7a4fe85b3",
   "metadata": {},
   "source": [
    "This dataset contains images of digits. Here is a sample."
   ]
  },
  {
   "cell_type": "code",
   "execution_count": null,
   "id": "f3d7c9ba-eab7-4bea-a47c-9471f2285e29",
   "metadata": {},
   "outputs": [],
   "source": [
    "_, axes = plt.subplots(1, 10, figsize=(12, 5))\n",
    "for ax, digit in zip(axes, X):\n",
    "    ax.imshow(digit.reshape(28, 28))\n",
    "    ax.axis(\"off\")"
   ]
  },
  {
   "cell_type": "markdown",
   "id": "e6da5e02-bd7f-4771-88ef-0ffd418afcba",
   "metadata": {},
   "source": [
    "Let's split the dataset in train/test folds of given size."
   ]
  },
  {
   "cell_type": "code",
   "execution_count": null,
   "id": "d868df13-9c9a-42bf-a53e-dab8f717c330",
   "metadata": {},
   "outputs": [],
   "source": [
    "X_train, X_test, y_train, y_test = train_test_split(\n",
    "    X, y, stratify=y, train_size=5000, test_size=10000, random_state=42\n",
    ")"
   ]
  },
  {
   "cell_type": "markdown",
   "id": "f826f985-f890-4ae2-9360-6ecc4cb03583",
   "metadata": {},
   "source": [
    "We save the dataset on disk."
   ]
  },
  {
   "cell_type": "code",
   "execution_count": null,
   "id": "edd05556-42df-48fb-b188-c2a10e2c983f",
   "metadata": {},
   "outputs": [],
   "source": [
    "result_path = Path(result_file)\n",
    "result_path.parent.mkdir(parents=True, exist_ok=True)\n",
    "np.savez(result_path, X_train=X_train, X_test=X_test, y_train=y_train, y_test=y_test)"
   ]
  }
 ],
 "metadata": {
  "kernelspec": {
   "display_name": "papermill_demo",
   "language": "python",
   "name": "papermill_demo"
  },
  "language_info": {
   "codemirror_mode": {
    "name": "ipython",
    "version": 3
   },
   "file_extension": ".py",
   "mimetype": "text/x-python",
   "name": "python",
   "nbconvert_exporter": "python",
   "pygments_lexer": "ipython3",
   "version": "3.9.7"
  }
 },
 "nbformat": 4,
 "nbformat_minor": 5
}
