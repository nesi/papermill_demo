{
 "cells": [
  {
   "cell_type": "markdown",
   "id": "0b3a1696-4458-44e8-8f8d-848395650d00",
   "metadata": {},
   "source": [
    "# Keras model fitting\n",
    "\n",
    "This notebook trains a simple neural net using Keras and assesses its performance."
   ]
  },
  {
   "cell_type": "code",
   "execution_count": null,
   "id": "bc529f64-b8a3-4df7-90e0-5451ed6cd9f0",
   "metadata": {},
   "outputs": [],
   "source": [
    "import datetime\n",
    "import numpy as np\n",
    "import tensorflow as tf\n",
    "from tensorflow.keras.optimizers import Adam\n",
    "from sklearn.metrics import accuracy_score"
   ]
  },
  {
   "cell_type": "markdown",
   "id": "2a2fc1eb-9803-401f-8aff-8c7074de61b8",
   "metadata": {},
   "source": [
    "This notebook is parameterized to work with [Papermill](https://papermill.readthedocs.io).\n",
    "The following cell contains the default values of the parameters."
   ]
  },
  {
   "cell_type": "code",
   "execution_count": null,
   "id": "487fd8c5-8a47-4167-9b13-22aa0a6138ef",
   "metadata": {
    "tags": [
     "parameters"
    ]
   },
   "outputs": [],
   "source": [
    "input_file = \"test_dataset.npz\"\n",
    "log_dir = \"logs\"\n",
    "\n",
    "n_epochs = 10\n",
    "n_batch = 32\n",
    "verbose = 1"
   ]
  },
  {
   "cell_type": "markdown",
   "id": "1c8c4254-ff9b-4605-8dfa-cba8f8c36472",
   "metadata": {},
   "source": [
    "First we load the training dataset."
   ]
  },
  {
   "cell_type": "code",
   "execution_count": null,
   "id": "0fb1bf62-b8bc-44a4-9174-1fbc401ebe31",
   "metadata": {},
   "outputs": [],
   "source": [
    "dset = np.load(input_file)\n",
    "print(f\"Number of training samples: {len(dset['X_train'])}.\")\n",
    "print(f\"Number of test samples: {len(dset['X_test'])}.\")"
   ]
  },
  {
   "cell_type": "code",
   "execution_count": null,
   "id": "21e174a5-4977-41ba-ad27-b59ae2030628",
   "metadata": {},
   "outputs": [],
   "source": [
    "n_classes = 10\n",
    "y_train = tf.one_hot(dset[\"y_train\"], n_classes)\n",
    "\n",
    "X_train = dset[\"X_train\"].astype(np.float32)\n",
    "X_test = dset[\"X_test\"].astype(np.float32)"
   ]
  },
  {
   "cell_type": "markdown",
   "id": "e793ef3a-ed3b-4d25-82a8-401a76ea5dfe",
   "metadata": {},
   "source": [
    "Then define a MLP model, using Keras."
   ]
  },
  {
   "cell_type": "code",
   "execution_count": null,
   "id": "9a058e17-9662-4ae6-b748-52c3f995a2cd",
   "metadata": {},
   "outputs": [],
   "source": [
    "n_features = dset[\"X_train\"].shape[1]\n",
    "\n",
    "model = tf.keras.Sequential(\n",
    "    [\n",
    "        tf.keras.layers.Input(shape=n_features),\n",
    "        tf.keras.layers.Dense(50, activation=\"relu\"),\n",
    "        tf.keras.layers.Dense(10, activation=\"relu\"),\n",
    "        tf.keras.layers.Dropout(0.5),\n",
    "        tf.keras.layers.Dense(n_classes, activation=\"softmax\"),\n",
    "    ]\n",
    ")\n",
    "model.summary()"
   ]
  },
  {
   "cell_type": "code",
   "execution_count": null,
   "id": "62ba7fba-9be1-41fb-b163-2797ffbcc5b0",
   "metadata": {},
   "outputs": [],
   "source": [
    "model.compile(\n",
    "    loss=\"categorical_crossentropy\",\n",
    "    optimizer=Adam(learning_rate=0.01),\n",
    "    metrics=[\"accuracy\"],\n",
    ")"
   ]
  },
  {
   "cell_type": "markdown",
   "id": "86ba1535-a2e7-4956-9ba2-6184fcfab061",
   "metadata": {},
   "source": [
    "Fitting will take more or less time depending on the total number of epochs used."
   ]
  },
  {
   "cell_type": "code",
   "execution_count": null,
   "id": "33450444-5039-4d45-8cd5-2aaa14d61672",
   "metadata": {},
   "outputs": [],
   "source": [
    "log_dir = log_dir + \"/\" + datetime.datetime.now().strftime(\"%Y%m%d-%H%M%S\")\n",
    "tensorboard_callback = tf.keras.callbacks.TensorBoard(log_dir=log_dir, histogram_freq=1)"
   ]
  },
  {
   "cell_type": "code",
   "execution_count": null,
   "id": "b8b75bad-168b-4875-85e9-d4a26f67b3a4",
   "metadata": {},
   "outputs": [],
   "source": [
    "%%time\n",
    "history = model.fit(\n",
    "    X_train,\n",
    "    y_train,\n",
    "    epochs=n_epochs,\n",
    "    batch_size=n_batch,\n",
    "    verbose=verbose,\n",
    "    callbacks=[tensorboard_callback],\n",
    ")"
   ]
  },
  {
   "cell_type": "markdown",
   "id": "27f19756-251a-4531-a78a-39a1cb24d0f8",
   "metadata": {},
   "source": [
    "Finally, we check the accuracy on the test dataset."
   ]
  },
  {
   "cell_type": "code",
   "execution_count": null,
   "id": "0abe311d-e412-466b-8d95-9b0045bb172b",
   "metadata": {},
   "outputs": [],
   "source": [
    "y_pred = np.argmax(model.predict(X_test), axis=1)\n",
    "mlp_acc = accuracy_score(dset[\"y_test\"], y_pred)\n",
    "print(f\"MLP test accuracy is {mlp_acc * 100:.2f}%.\")"
   ]
  },
  {
   "cell_type": "markdown",
   "id": "6f7e4495-7074-4513-bd51-a3ad664fbc0c",
   "metadata": {},
   "source": [
    "We can investigate the results via Tensorboard, use the integrated reverse proxy to access it."
   ]
  },
  {
   "cell_type": "code",
   "execution_count": null,
   "id": "c8275c42-01a0-4cab-86c6-80f9a0fd2f67",
   "metadata": {},
   "outputs": [],
   "source": [
    "%env TENSORBOARD_PROXY_URL /user-redirect/proxy/%PORT%/"
   ]
  },
  {
   "cell_type": "code",
   "execution_count": null,
   "id": "20103610-91f4-4d69-b29f-3766a462b320",
   "metadata": {},
   "outputs": [],
   "source": [
    "%load_ext tensorboard"
   ]
  },
  {
   "cell_type": "code",
   "execution_count": null,
   "id": "b52e990e-2d6c-4ff9-a575-ca5a96d93213",
   "metadata": {},
   "outputs": [],
   "source": [
    "%tensorboard --logdir logs"
   ]
  }
 ],
 "metadata": {
  "kernelspec": {
   "display_name": "demo_tf_kernel",
   "language": "python",
   "name": "demo_tf_kernel"
  },
  "language_info": {
   "codemirror_mode": {
    "name": "ipython",
    "version": 3
   },
   "file_extension": ".py",
   "mimetype": "text/x-python",
   "name": "python",
   "nbconvert_exporter": "python",
   "pygments_lexer": "ipython3",
   "version": "3.9.12"
  }
 },
 "nbformat": 4,
 "nbformat_minor": 5
}
