{
 "cells": [
  {
   "cell_type": "markdown",
   "id": "0b3a1696-4458-44e8-8f8d-848395650d00",
   "metadata": {},
   "source": [
    "# Keras model fitting\n",
    "\n",
    "This notebook trains a simple neural net using Keras and assesses its performance."
   ]
  },
  {
   "cell_type": "code",
   "execution_count": null,
   "id": "bc529f64-b8a3-4df7-90e0-5451ed6cd9f0",
   "metadata": {},
   "outputs": [],
   "source": [
    "import datetime\n",
    "import numpy as np\n",
    "import matplotlib.pyplot as plt\n",
    "import tensorflow as tf\n",
    "from tensorflow.keras.optimizers import Adam"
   ]
  },
  {
   "cell_type": "markdown",
   "id": "2a2fc1eb-9803-401f-8aff-8c7074de61b8",
   "metadata": {},
   "source": [
    "This notebook is parameterized to work with [Papermill](https://papermill.readthedocs.io).\n",
    "The following cell contains the default values of the parameters."
   ]
  },
  {
   "cell_type": "code",
   "execution_count": null,
   "id": "487fd8c5-8a47-4167-9b13-22aa0a6138ef",
   "metadata": {
    "tags": [
     "parameters"
    ]
   },
   "outputs": [],
   "source": [
    "log_dir = \"logs\"\n",
    "\n",
    "n_units = 10\n",
    "n_epochs = 2\n",
    "n_batch = 32\n",
    "verbose = 1"
   ]
  },
  {
   "cell_type": "markdown",
   "id": "1c8c4254-ff9b-4605-8dfa-cba8f8c36472",
   "metadata": {},
   "source": [
    "First we load the training dataset."
   ]
  },
  {
   "cell_type": "code",
   "execution_count": null,
   "id": "612b0a7a-9331-4448-8b6c-b9f1cad9f6a8",
   "metadata": {},
   "outputs": [],
   "source": [
    "(X_train, y_train), (X_test, y_test) = tf.keras.datasets.mnist.load_data()\n",
    "print(f\"Number of training samples: {len(X_train)}.\")\n",
    "print(f\"Number of test samples: {len(X_test)}.\")"
   ]
  },
  {
   "cell_type": "markdown",
   "id": "c739d581-5dd0-4ebd-b21f-89587af2998e",
   "metadata": {},
   "source": [
    "This dataset contains images of digits. Here is a sample."
   ]
  },
  {
   "cell_type": "code",
   "execution_count": null,
   "id": "a0d59b08-7af9-47e6-b4cc-6d6ebb070ed2",
   "metadata": {},
   "outputs": [],
   "source": [
    "_, axes = plt.subplots(1, 10, figsize=(12, 5))\n",
    "for ax, digit in zip(axes, X_train):\n",
    "    ax.imshow(digit)\n",
    "    ax.axis(\"off\")"
   ]
  },
  {
   "cell_type": "markdown",
   "id": "766cc42a-cc05-4644-8f94-889edae35b42",
   "metadata": {},
   "source": [
    "Next, we transform the data to be more easily processed by the Keras neural net."
   ]
  },
  {
   "cell_type": "code",
   "execution_count": null,
   "id": "98b996de-3b04-4514-9f5f-811ce3e7a916",
   "metadata": {},
   "outputs": [],
   "source": [
    "n_classes = 10\n",
    "y_train = tf.one_hot(y_train, n_classes)\n",
    "y_test = tf.one_hot(y_test, n_classes)\n",
    "\n",
    "X_train = X_train.astype(np.float32) / 255.\n",
    "X_test = X_test.astype(np.float32) / 255."
   ]
  },
  {
   "cell_type": "markdown",
   "id": "e793ef3a-ed3b-4d25-82a8-401a76ea5dfe",
   "metadata": {},
   "source": [
    "Then define a MLP model, using Keras."
   ]
  },
  {
   "cell_type": "code",
   "execution_count": null,
   "id": "9a058e17-9662-4ae6-b748-52c3f995a2cd",
   "metadata": {},
   "outputs": [],
   "source": [
    "model = tf.keras.Sequential(\n",
    "    [\n",
    "        tf.keras.layers.Flatten(input_shape=X_train.shape[1:]),\n",
    "        tf.keras.layers.Dense(n_units, activation=\"relu\"),\n",
    "        tf.keras.layers.Dropout(0.5),\n",
    "        tf.keras.layers.Dense(n_classes, activation=\"softmax\"),\n",
    "    ]\n",
    ")\n",
    "model.summary()"
   ]
  },
  {
   "cell_type": "code",
   "execution_count": null,
   "id": "62ba7fba-9be1-41fb-b163-2797ffbcc5b0",
   "metadata": {},
   "outputs": [],
   "source": [
    "model.compile(\n",
    "    loss=\"categorical_crossentropy\",\n",
    "    optimizer=Adam(learning_rate=0.01),\n",
    "    metrics=[\"accuracy\"],\n",
    ")"
   ]
  },
  {
   "cell_type": "markdown",
   "id": "86ba1535-a2e7-4956-9ba2-6184fcfab061",
   "metadata": {},
   "source": [
    "Fitting will take more or less time depending on the total number of epochs used."
   ]
  },
  {
   "cell_type": "code",
   "execution_count": null,
   "id": "33450444-5039-4d45-8cd5-2aaa14d61672",
   "metadata": {},
   "outputs": [],
   "source": [
    "log_dir = log_dir + \"/\" + datetime.datetime.now().strftime(\"%Y%m%d-%H%M%S\")\n",
    "tensorboard_callback = tf.keras.callbacks.TensorBoard(log_dir=log_dir, histogram_freq=1)"
   ]
  },
  {
   "cell_type": "code",
   "execution_count": null,
   "id": "b8b75bad-168b-4875-85e9-d4a26f67b3a4",
   "metadata": {},
   "outputs": [],
   "source": [
    "%%time\n",
    "history = model.fit(\n",
    "    X_train,\n",
    "    y_train,\n",
    "    epochs=n_epochs,\n",
    "    batch_size=n_batch,\n",
    "    verbose=verbose,\n",
    "    callbacks=[tensorboard_callback],\n",
    ")"
   ]
  },
  {
   "cell_type": "markdown",
   "id": "27f19756-251a-4531-a78a-39a1cb24d0f8",
   "metadata": {},
   "source": [
    "Finally, we check the accuracy on the test dataset."
   ]
  },
  {
   "cell_type": "code",
   "execution_count": null,
   "id": "4775ee7a-715f-462a-a2d9-33d63337232b",
   "metadata": {},
   "outputs": [],
   "source": [
    "_, accuracy = model.evaluate(X_test, y_test)\n",
    "print(f\"MLP test accuracy is {accuracy * 100:.2f}%.\")"
   ]
  },
  {
   "cell_type": "markdown",
   "id": "6f7e4495-7074-4513-bd51-a3ad664fbc0c",
   "metadata": {},
   "source": [
    "We can investigate the results via Tensorboard, use the integrated reverse proxy to access it."
   ]
  },
  {
   "cell_type": "code",
   "execution_count": null,
   "id": "c8275c42-01a0-4cab-86c6-80f9a0fd2f67",
   "metadata": {},
   "outputs": [],
   "source": [
    "%env TENSORBOARD_PROXY_URL /user-redirect/proxy/%PORT%/"
   ]
  },
  {
   "cell_type": "code",
   "execution_count": null,
   "id": "20103610-91f4-4d69-b29f-3766a462b320",
   "metadata": {},
   "outputs": [],
   "source": [
    "%load_ext tensorboard"
   ]
  },
  {
   "cell_type": "code",
   "execution_count": null,
   "id": "b52e990e-2d6c-4ff9-a575-ca5a96d93213",
   "metadata": {},
   "outputs": [],
   "source": [
    "%tensorboard --logdir logs"
   ]
  }
 ],
 "metadata": {
  "kernelspec": {
   "display_name": "demo_tf_kernel",
   "language": "python",
   "name": "demo_tf_kernel"
  },
  "language_info": {
   "codemirror_mode": {
    "name": "ipython",
    "version": 3
   },
   "file_extension": ".py",
   "mimetype": "text/x-python",
   "name": "python",
   "nbconvert_exporter": "python",
   "pygments_lexer": "ipython3",
   "version": "3.9.12"
  }
 },
 "nbformat": 4,
 "nbformat_minor": 5
}
