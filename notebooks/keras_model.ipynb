{
 "cells": [
  {
   "cell_type": "markdown",
   "id": "0b3a1696-4458-44e8-8f8d-848395650d00",
   "metadata": {},
   "source": [
    "# Keras model fitting\n",
    "\n",
    "This notebook trains a simple neural net using Keras and assesses its performance."
   ]
  },
  {
   "cell_type": "code",
   "execution_count": null,
   "id": "bc529f64-b8a3-4df7-90e0-5451ed6cd9f0",
   "metadata": {},
   "outputs": [],
   "source": [
    "import numpy as np\n",
    "import matplotlib.pyplot as plt\n",
    "import tensorflow as tf\n",
    "import keras_tuner as kt"
   ]
  },
  {
   "cell_type": "markdown",
   "id": "2a2fc1eb-9803-401f-8aff-8c7074de61b8",
   "metadata": {},
   "source": [
    "This notebook is parameterized to work with [Papermill](https://papermill.readthedocs.io).\n",
    "The following cell contains the default values of the parameters."
   ]
  },
  {
   "cell_type": "code",
   "execution_count": null,
   "id": "487fd8c5-8a47-4167-9b13-22aa0a6138ef",
   "metadata": {
    "tags": [
     "parameters"
    ]
   },
   "outputs": [],
   "source": [
    "n_epochs = 2\n",
    "n_trials = 1\n",
    "max_units = 10"
   ]
  },
  {
   "cell_type": "markdown",
   "id": "1c8c4254-ff9b-4605-8dfa-cba8f8c36472",
   "metadata": {},
   "source": [
    "First we load the training dataset."
   ]
  },
  {
   "cell_type": "code",
   "execution_count": null,
   "id": "612b0a7a-9331-4448-8b6c-b9f1cad9f6a8",
   "metadata": {},
   "outputs": [],
   "source": [
    "(X_train, y_train), (X_test, y_test) = tf.keras.datasets.mnist.load_data()\n",
    "\n",
    "X_train = X_train.astype(np.float32) / 255.0\n",
    "X_test = X_test.astype(np.float32) / 255.0\n",
    "\n",
    "print(f\"Number of training samples: {len(X_train)}.\")\n",
    "print(f\"Number of test samples: {len(X_test)}.\")"
   ]
  },
  {
   "cell_type": "markdown",
   "id": "c739d581-5dd0-4ebd-b21f-89587af2998e",
   "metadata": {},
   "source": [
    "This dataset contains images of digits. Here is a sample."
   ]
  },
  {
   "cell_type": "code",
   "execution_count": null,
   "id": "a0d59b08-7af9-47e6-b4cc-6d6ebb070ed2",
   "metadata": {},
   "outputs": [],
   "source": [
    "_, axes = plt.subplots(1, 10, figsize=(12, 5))\n",
    "for ax, digit in zip(axes, X_train):\n",
    "    ax.imshow(digit)\n",
    "    ax.axis(\"off\")"
   ]
  },
  {
   "cell_type": "markdown",
   "id": "e793ef3a-ed3b-4d25-82a8-401a76ea5dfe",
   "metadata": {},
   "source": [
    "Then define a MLP model, using KerasTuner to be able to do hyperparameters optimization."
   ]
  },
  {
   "cell_type": "code",
   "execution_count": null,
   "id": "b4217d33-d396-44e4-9f9d-87ae51088a49",
   "metadata": {},
   "outputs": [],
   "source": [
    "def build_model(hp):\n",
    "    hp_units = hp.Int(\n",
    "        \"units\", min_value=min(max_units, 32), max_value=max_units, step=32\n",
    "    )\n",
    "    hp_dropout = hp.Float(\"dropout\", min_value=0.1, max_value=0.5)\n",
    "\n",
    "    model = tf.keras.Sequential(\n",
    "        [\n",
    "            tf.keras.layers.Flatten(input_shape=X_train.shape[1:]),\n",
    "            tf.keras.layers.Dense(hp_units, activation=\"relu\"),\n",
    "            tf.keras.layers.Dropout(hp_dropout),\n",
    "            tf.keras.layers.Dense(10, activation=\"softmax\"),\n",
    "        ]\n",
    "    )\n",
    "\n",
    "    lr = hp.Float(\"learning_rate\", min_value=1e-4, max_value=1e-2, sampling=\"log\")\n",
    "    model.compile(\n",
    "        loss=\"sparse_categorical_crossentropy\",\n",
    "        optimizer=tf.keras.optimizers.Adam(learning_rate=lr),\n",
    "        metrics=[\"accuracy\"],\n",
    "    )\n",
    "    return model"
   ]
  },
  {
   "cell_type": "code",
   "execution_count": null,
   "id": "f4e450b8-4467-4426-9a70-95ea4d954cec",
   "metadata": {},
   "outputs": [],
   "source": [
    "model = build_model(kt.HyperParameters())\n",
    "model.summary()"
   ]
  },
  {
   "cell_type": "code",
   "execution_count": null,
   "id": "e9007c1d-e0b7-4ddf-a854-4b20a2ff4617",
   "metadata": {},
   "outputs": [],
   "source": [
    "!rm -rf logs mlp_tuning"
   ]
  },
  {
   "cell_type": "code",
   "execution_count": null,
   "id": "639f55a0-af8d-4e6c-8f7d-ace55a5881bb",
   "metadata": {},
   "outputs": [],
   "source": [
    "tuner = kt.RandomSearch(\n",
    "    build_model,\n",
    "    objective=\"val_accuracy\",\n",
    "    max_trials=n_trials,\n",
    "    seed=42,\n",
    "    project_name=\"mlp_tuning\",\n",
    ")"
   ]
  },
  {
   "cell_type": "markdown",
   "id": "86ba1535-a2e7-4956-9ba2-6184fcfab061",
   "metadata": {},
   "source": [
    "Fitting will take more or less time depending on the total number of epochs used and the number of tested configurations."
   ]
  },
  {
   "cell_type": "code",
   "execution_count": null,
   "id": "571d63c4-74b2-4927-8683-9c07e7506500",
   "metadata": {},
   "outputs": [],
   "source": [
    "stop_early = tf.keras.callbacks.EarlyStopping(monitor=\"val_loss\", patience=5)\n",
    "tensorboard_callback = tf.keras.callbacks.TensorBoard(\"logs\")"
   ]
  },
  {
   "cell_type": "code",
   "execution_count": null,
   "id": "76e9472c-a825-42bc-b5c5-5086adc3bb3e",
   "metadata": {},
   "outputs": [],
   "source": [
    "tuner.search(\n",
    "    X_train,\n",
    "    y_train,\n",
    "    epochs=n_epochs,\n",
    "    batch_size=32,\n",
    "    validation_split=0.2,\n",
    "    callbacks=[stop_early, tensorboard_callback],\n",
    ")"
   ]
  },
  {
   "cell_type": "markdown",
   "id": "27f19756-251a-4531-a78a-39a1cb24d0f8",
   "metadata": {},
   "source": [
    "Finally, we check the accuracy of the best model on the test dataset."
   ]
  },
  {
   "cell_type": "code",
   "execution_count": null,
   "id": "4775ee7a-715f-462a-a2d9-33d63337232b",
   "metadata": {},
   "outputs": [],
   "source": [
    "model = tuner.get_best_models(num_models=1)[0]\n",
    "_, accuracy = model.evaluate(X_test, y_test)\n",
    "print(f\"MLP test accuracy is {accuracy * 100:.2f}%.\")"
   ]
  },
  {
   "cell_type": "markdown",
   "id": "6f7e4495-7074-4513-bd51-a3ad664fbc0c",
   "metadata": {},
   "source": [
    "We can investigate the results via Tensorboard, use the integrated reverse proxy to access it."
   ]
  },
  {
   "cell_type": "code",
   "execution_count": null,
   "id": "c8275c42-01a0-4cab-86c6-80f9a0fd2f67",
   "metadata": {},
   "outputs": [],
   "source": [
    "%env TENSORBOARD_PROXY_URL /user-redirect/proxy/%PORT%/"
   ]
  },
  {
   "cell_type": "code",
   "execution_count": null,
   "id": "20103610-91f4-4d69-b29f-3766a462b320",
   "metadata": {},
   "outputs": [],
   "source": [
    "%load_ext tensorboard"
   ]
  },
  {
   "cell_type": "code",
   "execution_count": null,
   "id": "b52e990e-2d6c-4ff9-a575-ca5a96d93213",
   "metadata": {},
   "outputs": [],
   "source": [
    "%tensorboard --logdir logs"
   ]
  }
 ],
 "metadata": {
  "kernelspec": {
   "display_name": "papermill_demo",
   "language": "python",
   "name": "papermill_demo"
  },
  "language_info": {
   "codemirror_mode": {
    "name": "ipython",
    "version": 3
   },
   "file_extension": ".py",
   "mimetype": "text/x-python",
   "name": "python",
   "nbconvert_exporter": "python",
   "pygments_lexer": "ipython3",
   "version": "3.9.12"
  }
 },
 "nbformat": 4,
 "nbformat_minor": 5
}
